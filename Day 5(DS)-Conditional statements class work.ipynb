{
 "cells": [
  {
   "cell_type": "markdown",
   "id": "a169c25e",
   "metadata": {},
   "source": [
    "# CLASS WORK"
   ]
  },
  {
   "cell_type": "markdown",
   "id": "1dbca1d7",
   "metadata": {},
   "source": [
    "1. WAP to check wheather the person is eligible for votting"
   ]
  },
  {
   "cell_type": "code",
   "execution_count": 1,
   "id": "f9951c56",
   "metadata": {},
   "outputs": [
    {
     "name": "stdout",
     "output_type": "stream",
     "text": [
      "enter your age19\n",
      "person is eligible for votting\n"
     ]
    }
   ],
   "source": [
    "a = int(input(\"enter your age\"))\n",
    "if a>=18:\n",
    "    print(\"person is eligible for votting\")\n",
    "    \n",
    "else:\n",
    "    print(\"person is not eligible for votting\")"
   ]
  },
  {
   "cell_type": "markdown",
   "id": "6865bf4f",
   "metadata": {},
   "source": [
    "2. WAP to check wheather no. entered by user is even or odd"
   ]
  },
  {
   "cell_type": "code",
   "execution_count": 2,
   "id": "cc64e9ed",
   "metadata": {},
   "outputs": [
    {
     "name": "stdout",
     "output_type": "stream",
     "text": [
      "enter number15\n",
      "number is odd\n"
     ]
    }
   ],
   "source": [
    "a = int(input(\"enter number\"))\n",
    "if a%2==0:\n",
    "    print(\"number is even\")\n",
    "    \n",
    "else:\n",
    "    print(\"number is odd\")"
   ]
  },
  {
   "cell_type": "markdown",
   "id": "ca7db45a",
   "metadata": {},
   "source": [
    "3. WAP to check wheather number is divisible by 7 or not"
   ]
  },
  {
   "cell_type": "code",
   "execution_count": 3,
   "id": "411b6984",
   "metadata": {},
   "outputs": [
    {
     "name": "stdout",
     "output_type": "stream",
     "text": [
      "enter number21\n",
      "number is divisible by 7\n"
     ]
    }
   ],
   "source": [
    "a = int(input(\"enter number\"))\n",
    "if a%7==0:\n",
    "    print(\"number is divisible by 7\")\n",
    "    \n",
    "else:\n",
    "    print(\"number is not divisible by 7\")"
   ]
  },
  {
   "cell_type": "markdown",
   "id": "c3105743",
   "metadata": {},
   "source": [
    "4. WAP to check wheather the number is divisible by 2 and 3 both"
   ]
  },
  {
   "cell_type": "code",
   "execution_count": 4,
   "id": "f0ef9975",
   "metadata": {},
   "outputs": [
    {
     "name": "stdout",
     "output_type": "stream",
     "text": [
      "enter number :18\n",
      "number is divisible by both 2 and 3\n"
     ]
    }
   ],
   "source": [
    "a = int(input(\"enter number :\"))\n",
    "if a%2==0 & a%3==0:\n",
    "    print(\"number is divisible by both 2 and 3\")\n",
    "    \n",
    "else:\n",
    "    print(\"number is not divisible by 2 and 3 \")"
   ]
  },
  {
   "cell_type": "markdown",
   "id": "cbac9762",
   "metadata": {},
   "source": [
    "5. WAP to display Hello if number entered by user is divisible by five"
   ]
  },
  {
   "cell_type": "code",
   "execution_count": 5,
   "id": "01e41351",
   "metadata": {},
   "outputs": [
    {
     "name": "stdout",
     "output_type": "stream",
     "text": [
      "enter number50\n",
      "Hello\n"
     ]
    }
   ],
   "source": [
    "a = int(input(\"enter number\"))\n",
    "if a%5==0:\n",
    "    print(\"Hello\")"
   ]
  }
 ],
 "metadata": {
  "kernelspec": {
   "display_name": "Python 3 (ipykernel)",
   "language": "python",
   "name": "python3"
  },
  "language_info": {
   "codemirror_mode": {
    "name": "ipython",
    "version": 3
   },
   "file_extension": ".py",
   "mimetype": "text/x-python",
   "name": "python",
   "nbconvert_exporter": "python",
   "pygments_lexer": "ipython3",
   "version": "3.10.9"
  }
 },
 "nbformat": 4,
 "nbformat_minor": 5
}
