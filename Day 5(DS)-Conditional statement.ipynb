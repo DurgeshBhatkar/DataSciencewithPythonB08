{
 "cells": [
  {
   "cell_type": "markdown",
   "id": "c86d1472",
   "metadata": {},
   "source": [
    "# Conditional Statements"
   ]
  },
  {
   "cell_type": "markdown",
   "id": "51cda439",
   "metadata": {},
   "source": [
    "Types of conditional statements\n",
    "1. if\n",
    "2. if-else\n",
    "3. Nested-if\n",
    "4. Ladder if"
   ]
  },
  {
   "cell_type": "code",
   "execution_count": 1,
   "id": "e7d35b9d",
   "metadata": {},
   "outputs": [],
   "source": [
    "#simple if\n",
    "a=5\n",
    "b=3"
   ]
  },
  {
   "cell_type": "code",
   "execution_count": 2,
   "id": "f068cf1e",
   "metadata": {},
   "outputs": [
    {
     "name": "stdout",
     "output_type": "stream",
     "text": [
      "a is greater than b\n"
     ]
    }
   ],
   "source": [
    "if a>b:\n",
    "    print(\"a is greater than b\")\n"
   ]
  },
  {
   "cell_type": "code",
   "execution_count": 3,
   "id": "9e68158d",
   "metadata": {},
   "outputs": [
    {
     "name": "stdout",
     "output_type": "stream",
     "text": [
      "Enter your roll number\n"
     ]
    }
   ],
   "source": [
    "print(\"Enter your roll number\")\n",
    "\n"
   ]
  },
  {
   "cell_type": "code",
   "execution_count": 4,
   "id": "b7581d3b",
   "metadata": {},
   "outputs": [
    {
     "name": "stdout",
     "output_type": "stream",
     "text": [
      "Durgesh4\n",
      "4\n"
     ]
    }
   ],
   "source": [
    "x=input(\"Durgesh\")\n",
    "print(x)"
   ]
  },
  {
   "cell_type": "code",
   "execution_count": 5,
   "id": "313cd5d9",
   "metadata": {},
   "outputs": [
    {
     "name": "stdout",
     "output_type": "stream",
     "text": [
      "b is greater than a\n"
     ]
    }
   ],
   "source": [
    "#if else\n",
    "a=3\n",
    "b=5\n",
    "if a>b:\n",
    "    print(\"a is greater than b\")\n",
    "else:\n",
    "    print(\"b is greater than a\")"
   ]
  },
  {
   "cell_type": "code",
   "execution_count": 6,
   "id": "a548419f",
   "metadata": {},
   "outputs": [
    {
     "name": "stdout",
     "output_type": "stream",
     "text": [
      "student will get placed\n"
     ]
    }
   ],
   "source": [
    "percentage=80\n",
    "if percentage>60:\n",
    "    print(\"student will get placed\")\n",
    "else:\n",
    "    print(\"student will not get placed\")"
   ]
  },
  {
   "cell_type": "code",
   "execution_count": 7,
   "id": "0c98800d",
   "metadata": {},
   "outputs": [
    {
     "name": "stdout",
     "output_type": "stream",
     "text": [
      "enter the value of a :5\n",
      "enter the value of b :3\n",
      "a is greater than b 5\n"
     ]
    }
   ],
   "source": [
    "#if else (user define)\n",
    "a=int(input(\"enter the value of a :\"))\n",
    "b=int(input(\"enter the value of b :\"))\n",
    "if a>b:\n",
    "    print(\"a is greater than b\",a)\n",
    "else:\n",
    "    print(\"b is greater than a\",b)"
   ]
  }
 ],
 "metadata": {
  "kernelspec": {
   "display_name": "Python 3 (ipykernel)",
   "language": "python",
   "name": "python3"
  },
  "language_info": {
   "codemirror_mode": {
    "name": "ipython",
    "version": 3
   },
   "file_extension": ".py",
   "mimetype": "text/x-python",
   "name": "python",
   "nbconvert_exporter": "python",
   "pygments_lexer": "ipython3",
   "version": "3.10.9"
  }
 },
 "nbformat": 4,
 "nbformat_minor": 5
}
