{
 "cells": [
  {
   "cell_type": "code",
   "execution_count": 1,
   "id": "8deab21c",
   "metadata": {},
   "outputs": [],
   "source": [
    "a=20\n",
    "#a=variable\n",
    "# =  assignment operator\n",
    "# 20=data"
   ]
  },
  {
   "cell_type": "code",
   "execution_count": 2,
   "id": "dd74c266",
   "metadata": {},
   "outputs": [],
   "source": [
    "#a="
   ]
  },
  {
   "cell_type": "code",
   "execution_count": 3,
   "id": "5629090c",
   "metadata": {},
   "outputs": [
    {
     "data": {
      "text/plain": [
       "20"
      ]
     },
     "execution_count": 3,
     "metadata": {},
     "output_type": "execute_result"
    }
   ],
   "source": [
    "a"
   ]
  },
  {
   "cell_type": "code",
   "execution_count": 4,
   "id": "1d620b60",
   "metadata": {},
   "outputs": [
    {
     "name": "stdout",
     "output_type": "stream",
     "text": [
      "20\n"
     ]
    }
   ],
   "source": [
    "print(a)"
   ]
  },
  {
   "cell_type": "code",
   "execution_count": 5,
   "id": "fd01d1a4",
   "metadata": {},
   "outputs": [],
   "source": [
    "a=\"Durgesh\"\n",
    "a='Durgesh'\n",
    "a='''Durgesh'''"
   ]
  },
  {
   "cell_type": "code",
   "execution_count": 6,
   "id": "759cc31b",
   "metadata": {},
   "outputs": [
    {
     "data": {
      "text/plain": [
       "'Durgesh'"
      ]
     },
     "execution_count": 6,
     "metadata": {},
     "output_type": "execute_result"
    }
   ],
   "source": [
    "a"
   ]
  },
  {
   "cell_type": "code",
   "execution_count": 7,
   "id": "98f3b106",
   "metadata": {},
   "outputs": [],
   "source": [
    "a='Durgesh'\n",
    "b='Bhatkar'"
   ]
  },
  {
   "cell_type": "code",
   "execution_count": 8,
   "id": "2b34a08b",
   "metadata": {},
   "outputs": [],
   "source": [
    "c=a+b"
   ]
  },
  {
   "cell_type": "code",
   "execution_count": 9,
   "id": "3db393be",
   "metadata": {},
   "outputs": [
    {
     "data": {
      "text/plain": [
       "'DurgeshBhatkar'"
      ]
     },
     "execution_count": 9,
     "metadata": {},
     "output_type": "execute_result"
    }
   ],
   "source": [
    "c"
   ]
  },
  {
   "cell_type": "code",
   "execution_count": 10,
   "id": "f7622c3b",
   "metadata": {},
   "outputs": [
    {
     "name": "stdout",
     "output_type": "stream",
     "text": [
      "Durgesh\tBhatkar\n"
     ]
    }
   ],
   "source": [
    "print('Durgesh\\tBhatkar')"
   ]
  },
  {
   "cell_type": "code",
   "execution_count": 11,
   "id": "1e6db534",
   "metadata": {},
   "outputs": [
    {
     "name": "stdout",
     "output_type": "stream",
     "text": [
      "Durgesh\n",
      "Bhatkar\n"
     ]
    }
   ],
   "source": [
    "print('Durgesh\\nBhatkar')"
   ]
  },
  {
   "cell_type": "code",
   "execution_count": 12,
   "id": "278e30c7",
   "metadata": {},
   "outputs": [
    {
     "data": {
      "text/plain": [
       "int"
      ]
     },
     "execution_count": 12,
     "metadata": {},
     "output_type": "execute_result"
    }
   ],
   "source": [
    "a=20\n",
    "type(a)"
   ]
  },
  {
   "cell_type": "code",
   "execution_count": 13,
   "id": "9b5afcb7",
   "metadata": {},
   "outputs": [
    {
     "data": {
      "text/plain": [
       "str"
      ]
     },
     "execution_count": 13,
     "metadata": {},
     "output_type": "execute_result"
    }
   ],
   "source": [
    "a='Durgesh'\n",
    "type(a)"
   ]
  },
  {
   "cell_type": "code",
   "execution_count": null,
   "id": "8304d8b0",
   "metadata": {},
   "outputs": [],
   "source": []
  }
 ],
 "metadata": {
  "kernelspec": {
   "display_name": "Python 3 (ipykernel)",
   "language": "python",
   "name": "python3"
  },
  "language_info": {
   "codemirror_mode": {
    "name": "ipython",
    "version": 3
   },
   "file_extension": ".py",
   "mimetype": "text/x-python",
   "name": "python",
   "nbconvert_exporter": "python",
   "pygments_lexer": "ipython3",
   "version": "3.10.9"
  }
 },
 "nbformat": 4,
 "nbformat_minor": 5
}
