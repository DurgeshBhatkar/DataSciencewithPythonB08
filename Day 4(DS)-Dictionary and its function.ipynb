{
 "cells": [
  {
   "cell_type": "markdown",
   "id": "c02f83c6",
   "metadata": {},
   "source": [
    "# Dictionary"
   ]
  },
  {
   "cell_type": "markdown",
   "id": "699eef3a",
   "metadata": {},
   "source": [
    "Dictionary is a part of data structure"
   ]
  },
  {
   "cell_type": "code",
   "execution_count": 1,
   "id": "c13decd4",
   "metadata": {},
   "outputs": [],
   "source": [
    "d={\"durgesh\":100,\"aryan\":20,\"sushant\":30,\"prathamesh\":40}"
   ]
  },
  {
   "cell_type": "code",
   "execution_count": 2,
   "id": "2ce9fe64",
   "metadata": {},
   "outputs": [
    {
     "data": {
      "text/plain": [
       "dict"
      ]
     },
     "execution_count": 2,
     "metadata": {},
     "output_type": "execute_result"
    }
   ],
   "source": [
    "type(d)"
   ]
  },
  {
   "cell_type": "code",
   "execution_count": 3,
   "id": "a89d69a4",
   "metadata": {},
   "outputs": [
    {
     "data": {
      "text/plain": [
       "4"
      ]
     },
     "execution_count": 3,
     "metadata": {},
     "output_type": "execute_result"
    }
   ],
   "source": [
    "len(d)"
   ]
  },
  {
   "cell_type": "code",
   "execution_count": 4,
   "id": "7eefcc11",
   "metadata": {},
   "outputs": [
    {
     "name": "stdout",
     "output_type": "stream",
     "text": [
      "{'durgesh': 100, 'aryan': 20, 'sushant': 30, 'prathamesh': 40}\n"
     ]
    }
   ],
   "source": [
    "print(d)"
   ]
  },
  {
   "cell_type": "code",
   "execution_count": 5,
   "id": "f2003377",
   "metadata": {},
   "outputs": [
    {
     "data": {
      "text/plain": [
       "{'durgesh': 100, 'aryan': 20, 'sushant': 30, 'prathamesh': 40}"
      ]
     },
     "execution_count": 5,
     "metadata": {},
     "output_type": "execute_result"
    }
   ],
   "source": [
    "d"
   ]
  },
  {
   "cell_type": "code",
   "execution_count": 6,
   "id": "544421c6",
   "metadata": {},
   "outputs": [
    {
     "data": {
      "text/plain": [
       "dict_keys(['durgesh', 'aryan', 'sushant', 'prathamesh'])"
      ]
     },
     "execution_count": 6,
     "metadata": {},
     "output_type": "execute_result"
    }
   ],
   "source": [
    "#extracting the keys from dictionary\n",
    "d={\"durgesh\":100,\"aryan\":20,\"sushant\":30,\"prathamesh\":40}\n",
    "d.keys()"
   ]
  },
  {
   "cell_type": "code",
   "execution_count": 7,
   "id": "ca0f4b92",
   "metadata": {},
   "outputs": [
    {
     "data": {
      "text/plain": [
       "dict_values([100, 20, 30, 40])"
      ]
     },
     "execution_count": 7,
     "metadata": {},
     "output_type": "execute_result"
    }
   ],
   "source": [
    "#Extracting the values from dictionary\n",
    "d={\"durgesh\":100,\"aryan\":20,\"sushant\":30,\"prathamesh\":40}\n",
    "d.values()"
   ]
  },
  {
   "cell_type": "code",
   "execution_count": 8,
   "id": "702f904c",
   "metadata": {},
   "outputs": [],
   "source": [
    "#Adding new elements\n",
    "d={\"durgesh\":100,\"aryan\":20,\"sushant\":30,\"prathamesh\":40}\n",
    "d[\"parth\"]=60"
   ]
  },
  {
   "cell_type": "code",
   "execution_count": 9,
   "id": "1a8e1073",
   "metadata": {},
   "outputs": [
    {
     "data": {
      "text/plain": [
       "{'durgesh': 100, 'aryan': 20, 'sushant': 30, 'prathamesh': 40, 'parth': 60}"
      ]
     },
     "execution_count": 9,
     "metadata": {},
     "output_type": "execute_result"
    }
   ],
   "source": [
    "d"
   ]
  },
  {
   "cell_type": "code",
   "execution_count": 10,
   "id": "8167c0a2",
   "metadata": {},
   "outputs": [],
   "source": [
    "#change existing element\n",
    "d={\"durgesh\":100,\"aryan\":20,\"sushant\":30,\"prathamesh\":40}\n",
    "d[\"durgesh\"]=60"
   ]
  },
  {
   "cell_type": "code",
   "execution_count": 11,
   "id": "affa25f4",
   "metadata": {},
   "outputs": [
    {
     "data": {
      "text/plain": [
       "{'durgesh': 60, 'aryan': 20, 'sushant': 30, 'prathamesh': 40}"
      ]
     },
     "execution_count": 11,
     "metadata": {},
     "output_type": "execute_result"
    }
   ],
   "source": [
    "d"
   ]
  },
  {
   "cell_type": "code",
   "execution_count": 12,
   "id": "1e9f90f5",
   "metadata": {},
   "outputs": [],
   "source": [
    "#update in dictionary\n",
    "d1={\"durgesh\":100,\"aryan\":20}\n",
    "d2={\"sushant\":30,\"prathamesh\":40}\n",
    "d1.update(d2)"
   ]
  },
  {
   "cell_type": "code",
   "execution_count": 13,
   "id": "453d71af",
   "metadata": {},
   "outputs": [
    {
     "data": {
      "text/plain": [
       "{'durgesh': 100, 'aryan': 20, 'sushant': 30, 'prathamesh': 40}"
      ]
     },
     "execution_count": 13,
     "metadata": {},
     "output_type": "execute_result"
    }
   ],
   "source": [
    "d1"
   ]
  },
  {
   "cell_type": "code",
   "execution_count": 14,
   "id": "1f90183e",
   "metadata": {},
   "outputs": [],
   "source": [
    "d={\"durgesh\":100,\"aryan\":20,\"sushant\":30,\"prathamesh\":40}\n"
   ]
  },
  {
   "cell_type": "code",
   "execution_count": 15,
   "id": "cb9b5a52",
   "metadata": {},
   "outputs": [
    {
     "data": {
      "text/plain": [
       "100"
      ]
     },
     "execution_count": 15,
     "metadata": {},
     "output_type": "execute_result"
    }
   ],
   "source": [
    "d.pop(\"durgesh\")"
   ]
  },
  {
   "cell_type": "code",
   "execution_count": 16,
   "id": "b7de29b3",
   "metadata": {},
   "outputs": [
    {
     "data": {
      "text/plain": [
       "{'aryan': 20, 'sushant': 30, 'prathamesh': 40}"
      ]
     },
     "execution_count": 16,
     "metadata": {},
     "output_type": "execute_result"
    }
   ],
   "source": [
    "d"
   ]
  }
 ],
 "metadata": {
  "kernelspec": {
   "display_name": "Python 3 (ipykernel)",
   "language": "python",
   "name": "python3"
  },
  "language_info": {
   "codemirror_mode": {
    "name": "ipython",
    "version": 3
   },
   "file_extension": ".py",
   "mimetype": "text/x-python",
   "name": "python",
   "nbconvert_exporter": "python",
   "pygments_lexer": "ipython3",
   "version": "3.10.9"
  }
 },
 "nbformat": 4,
 "nbformat_minor": 5
}
