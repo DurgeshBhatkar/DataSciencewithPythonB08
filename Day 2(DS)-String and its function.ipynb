{
 "cells": [
  {
   "cell_type": "code",
   "execution_count": 1,
   "id": "231c91c0",
   "metadata": {},
   "outputs": [],
   "source": [
    "a=\"Durgesh\""
   ]
  },
  {
   "cell_type": "code",
   "execution_count": 2,
   "id": "ed61d472",
   "metadata": {},
   "outputs": [
    {
     "data": {
      "text/plain": [
       "'D'"
      ]
     },
     "execution_count": 2,
     "metadata": {},
     "output_type": "execute_result"
    }
   ],
   "source": [
    "a[0]"
   ]
  },
  {
   "cell_type": "code",
   "execution_count": 3,
   "id": "98feccdf",
   "metadata": {},
   "outputs": [
    {
     "data": {
      "text/plain": [
       "'h'"
      ]
     },
     "execution_count": 3,
     "metadata": {},
     "output_type": "execute_result"
    }
   ],
   "source": [
    "a[-1]"
   ]
  },
  {
   "cell_type": "code",
   "execution_count": 4,
   "id": "140fee79",
   "metadata": {},
   "outputs": [
    {
     "data": {
      "text/plain": [
       "'r'"
      ]
     },
     "execution_count": 4,
     "metadata": {},
     "output_type": "execute_result"
    }
   ],
   "source": [
    "a[2]"
   ]
  },
  {
   "cell_type": "code",
   "execution_count": 5,
   "id": "dc1a14f3",
   "metadata": {},
   "outputs": [
    {
     "data": {
      "text/plain": [
       "'D'"
      ]
     },
     "execution_count": 5,
     "metadata": {},
     "output_type": "execute_result"
    }
   ],
   "source": [
    "a[-7]"
   ]
  },
  {
   "cell_type": "code",
   "execution_count": 6,
   "id": "36483403",
   "metadata": {},
   "outputs": [
    {
     "data": {
      "text/plain": [
       "'Durg'"
      ]
     },
     "execution_count": 6,
     "metadata": {},
     "output_type": "execute_result"
    }
   ],
   "source": [
    "a[0:4]"
   ]
  },
  {
   "cell_type": "code",
   "execution_count": 7,
   "id": "06b60ee9",
   "metadata": {},
   "outputs": [
    {
     "data": {
      "text/plain": [
       "'Du'"
      ]
     },
     "execution_count": 7,
     "metadata": {},
     "output_type": "execute_result"
    }
   ],
   "source": [
    "a[:2]"
   ]
  },
  {
   "cell_type": "code",
   "execution_count": 8,
   "id": "ba4ebc5b",
   "metadata": {},
   "outputs": [
    {
     "data": {
      "text/plain": [
       "'rgesh'"
      ]
     },
     "execution_count": 8,
     "metadata": {},
     "output_type": "execute_result"
    }
   ],
   "source": [
    "a[2:]"
   ]
  },
  {
   "cell_type": "code",
   "execution_count": 9,
   "id": "25194d4a",
   "metadata": {},
   "outputs": [],
   "source": [
    "a=\"Durgesh\""
   ]
  },
  {
   "cell_type": "code",
   "execution_count": 10,
   "id": "f5fa249d",
   "metadata": {},
   "outputs": [
    {
     "data": {
      "text/plain": [
       "'DURGESH'"
      ]
     },
     "execution_count": 10,
     "metadata": {},
     "output_type": "execute_result"
    }
   ],
   "source": [
    "a.upper()"
   ]
  },
  {
   "cell_type": "code",
   "execution_count": 11,
   "id": "b48fe419",
   "metadata": {},
   "outputs": [
    {
     "data": {
      "text/plain": [
       "'durgesh'"
      ]
     },
     "execution_count": 11,
     "metadata": {},
     "output_type": "execute_result"
    }
   ],
   "source": [
    "a.lower()"
   ]
  },
  {
   "cell_type": "code",
   "execution_count": 12,
   "id": "c8401174",
   "metadata": {},
   "outputs": [
    {
     "data": {
      "text/plain": [
       "'Durvesh'"
      ]
     },
     "execution_count": 12,
     "metadata": {},
     "output_type": "execute_result"
    }
   ],
   "source": [
    "a.replace('g','v')"
   ]
  },
  {
   "cell_type": "code",
   "execution_count": 13,
   "id": "4ca2ceb7",
   "metadata": {},
   "outputs": [
    {
     "data": {
      "text/plain": [
       "1"
      ]
     },
     "execution_count": 13,
     "metadata": {},
     "output_type": "execute_result"
    }
   ],
   "source": [
    "a.count('D')"
   ]
  },
  {
   "cell_type": "code",
   "execution_count": 14,
   "id": "8b1bc340",
   "metadata": {},
   "outputs": [
    {
     "data": {
      "text/plain": [
       "2"
      ]
     },
     "execution_count": 14,
     "metadata": {},
     "output_type": "execute_result"
    }
   ],
   "source": [
    "a.find('r')"
   ]
  },
  {
   "cell_type": "code",
   "execution_count": 15,
   "id": "542756f9",
   "metadata": {},
   "outputs": [],
   "source": [
    "a=\"Durgesh Bhatkar\""
   ]
  },
  {
   "cell_type": "code",
   "execution_count": 16,
   "id": "282cf9af",
   "metadata": {},
   "outputs": [
    {
     "data": {
      "text/plain": [
       "['Dur', 'esh Bhatkar']"
      ]
     },
     "execution_count": 16,
     "metadata": {},
     "output_type": "execute_result"
    }
   ],
   "source": [
    "a.split(\"g\")"
   ]
  },
  {
   "cell_type": "code",
   "execution_count": null,
   "id": "ef2c5173",
   "metadata": {},
   "outputs": [],
   "source": []
  }
 ],
 "metadata": {
  "kernelspec": {
   "display_name": "Python 3 (ipykernel)",
   "language": "python",
   "name": "python3"
  },
  "language_info": {
   "codemirror_mode": {
    "name": "ipython",
    "version": 3
   },
   "file_extension": ".py",
   "mimetype": "text/x-python",
   "name": "python",
   "nbconvert_exporter": "python",
   "pygments_lexer": "ipython3",
   "version": "3.10.9"
  }
 },
 "nbformat": 4,
 "nbformat_minor": 5
}
